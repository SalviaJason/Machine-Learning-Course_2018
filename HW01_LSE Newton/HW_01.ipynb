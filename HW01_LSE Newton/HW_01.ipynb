{
 "cells": [
  {
   "cell_type": "code",
   "execution_count": 11,
   "metadata": {},
   "outputs": [],
   "source": [
    "%matplotlib inline\n",
    "import pandas as pd\n",
    "import numpy as np\n",
    "import matplotlib.pyplot as plt\n",
    "\n",
    " # inverse matrix base on LU\n",
    "def LU_inv(A): \n",
    "        n = len(A)\n",
    "        L = np.mat(np.eye(n))\n",
    "        U = np.mat(A)\n",
    "\n",
    "          #LU Decomposition base on Gaussian Elimination\n",
    "        for i in range(n-1):\n",
    "            L[i+1: , i] = U[i+1: , i] / U[i , i]\n",
    "            U[i+1: , :] = U[i+1: , :] - L[i+1: , i] * U[i , :] #L[i+1: , i] = 消除係數\n",
    "\n",
    "          # E1 = U^(-1)\n",
    "        E1 = np.array(np.eye(n)) \n",
    "        for i in range(n-1,-1,-1):\n",
    "                # 對角線為1\n",
    "                E1[i , :] = E1[i , :]/U[i , i]\n",
    "                U[i , :] = U[i , :]/U[i , i]\n",
    " \n",
    "                E1[:i , :] = E1[:i , :] - U[:i , i] * E1[i , :]\n",
    "                U[:i , :] = U[:i , :] - U[:i , i] * U[i , :]\n",
    "        \n",
    "          # E2 = L^(-1)\n",
    "        E2 = np.array(np.eye(n))\n",
    "        for i in range(n):\n",
    "                E2[i+1: , :] = E2[i+1: , :] - L[i+1: , i] * E2[i , :]\n",
    "                L[i+1: , :] = L[i+1: , :] - L[i+1: , i] * U[i , :]\n",
    "        A_inv = np.dot(E1 , E2)\n",
    "        return A_inv\n",
    "\n",
    "def trans(m):\n",
    "    m = zip(*m)\n",
    "    A_T = list(m)\n",
    "    A_T = np.asarray(A_T)\n",
    "    return A_T\n",
    "    \n",
    "  # power = n元二次方程式; method = LSE(1) / Newton(2) ; lamda = LSE_weight ; loop = Newton 迭幾次\n",
    "def Funcction(FileName, power, method, lamda = 1, loop = 5): \n",
    "    #input\n",
    "    df = pd.read_excel(FileName)\n",
    "    X = df[df.columns[0]].values\n",
    "    Y = df[df.columns[1]].values\n",
    "    Y = Y.reshape(23, 1)\n",
    "    plt.scatter (X,Y)    \n",
    "      #extend input\n",
    "    X_b = np.c_[np.ones((23, 1)), X]\n",
    "    if power != 1:\n",
    "        for n in range(2, power+1):\n",
    "            X_b = np.c_[X_b, X**n]\n",
    "      # A = extend後的input\n",
    "    A = X_b   \n",
    "    I = np.mat(np.eye(power+1))\n",
    "      #A_T\n",
    "    A_T = trans(A)\n",
    "      #LSE\n",
    "    if method == 1:\n",
    "          #LU_inv(A)\n",
    "        A_LU_inv = LU_inv((np.dot(A_T, A) + lamda*I))    \n",
    "          #LSE \n",
    "        Xnew = np.dot(np.dot(A_LU_inv, A_T),Y) \n",
    "          #draw\n",
    "        Ynew = 0\n",
    "        for i in range(power+1):\n",
    "            Ynew = Ynew + Xnew[i]*X**(i)\n",
    "        plt.plot (X,Ynew)\n",
    "        print(\"> power=\", power)\n",
    "        print(\"> method=\", \"LSE\")\n",
    "        print(\"> lamda=\", lamda)\n",
    "        print(\"> Line : y=\", end=\" \")\n",
    "        for ii in reversed(Xnew):\n",
    "            if  i > 0:\n",
    "                print(ii,'x^', i, \"+\",end=\" \")\n",
    "                i = i -1\n",
    "            else:\n",
    "                print(Xnew[0],end=\" \")\n",
    "        Ynew = Ynew.reshape(23, 1)\n",
    "        TotErr = np.dot(trans(Ynew-Y),(Ynew-Y))\n",
    "        print(\"\\n> Total Error :\",TotErr[0][0])\n",
    "      # Newton\n",
    "    else:\n",
    "          #LU_inv(A)\n",
    "        A_N1 = LU_inv(np.dot(2*A_T,A)) #第一個括號\n",
    "          #Newton\n",
    "        Xnew = np.random.randn(power+1, 1)        \n",
    "        count = 0\n",
    "        while (count < loop):\n",
    "            A_N2 = np.dot(np.dot(2*A_T, A), Xnew) - np.dot(2*A_T, Y) #第二個括號\n",
    "            Xnew = Xnew - np.dot(A_N1, A_N2)\n",
    "            count = count + 1          \n",
    "          #draw\n",
    "        Ynew = 0\n",
    "        for i in range(power+1):\n",
    "            Ynew = Ynew + Xnew[i]*X**(i) \n",
    "        plt.plot (X,Ynew)\n",
    "        print(\"> power=\", power)\n",
    "        print(\"> method=\", \"Newton\")\n",
    "        print(\"> loop=\", loop)      \n",
    "        print(\"> Line : y=\", end=\" \")\n",
    "        for ii in reversed(Xnew):\n",
    "            if  i > 0:\n",
    "                print(ii,'x^', i, \"+\",end=\" \")\n",
    "                i = i -1\n",
    "            else:\n",
    "                print(Xnew[0],end=\" \")\n",
    "        Ynew = Ynew.reshape(23, 1)\n",
    "        TotErr = np.dot(trans(Ynew-Y),(Ynew-Y))\n",
    "        print(\"\\n> Total Error :\",TotErr[0][0])"
   ]
  },
  {
   "cell_type": "markdown",
   "metadata": {},
   "source": [
    "## Function(FileName, power, method, lamda, loop)\n",
    "**1.FileName = input data 檔名; <br />\n",
    "2.power = n元二次方程式 ; <br />\n",
    "3.method = LSE(1) / Newton(2) ; <br />\n",
    "4.lamda = LSE_weight  預設為1 ; <br />\n",
    "5.loop = Newton 迭幾次 預設為5 <br />**"
   ]
  },
  {
   "cell_type": "code",
   "execution_count": 13,
   "metadata": {},
   "outputs": [
    {
     "name": "stdout",
     "output_type": "stream",
     "text": [
      "> power= 2\n",
      "> method= LSE\n",
      "> lamda= 0\n",
      "> Line : y= [3.02385339] x^ 2 + [4.90619026] x^ 1 + [-0.23140175] \n",
      "> Total Error : 26.559959478868453\n"
     ]
    },
    {
     "data": {
      "image/png": "[encoded data removed]",
      "text/plain": [
       "<Figure size 432x288 with 1 Axes>"
      ]
     },
     "metadata": {
      "needs_background": "light"
     },
     "output_type": "display_data"
    }
   ],
   "source": [
    "Funcction('HW01_input.xlsx', 2, 1,0, 5)"
   ]
  },
  {
   "cell_type": "code",
   "execution_count": null,
   "metadata": {},
   "outputs": [],
   "source": []
  }
 ],
 "metadata": {
  "kernelspec": {
   "display_name": "Python 3",
   "language": "python",
   "name": "python3"
  },
  "language_info": {
   "codemirror_mode": {
    "name": "ipython",
    "version": 3
   },
   "file_extension": ".py",
   "mimetype": "text/x-python",
   "name": "python",
   "nbconvert_exporter": "python",
   "pygments_lexer": "ipython3",
   "version": "3.7.0"
  }
 },
 "nbformat": 4,
 "nbformat_minor": 2
}
