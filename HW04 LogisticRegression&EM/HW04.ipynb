{
 "cells": [
  {
   "cell_type": "code",
   "execution_count": 1,
   "metadata": {},
   "outputs": [],
   "source": [
    "%matplotlib inline\n",
    "import numpy as np\n",
    "import random\n",
    "import matplotlib.pyplot as plt\n",
    "import copy"
   ]
  },
  {
   "cell_type": "markdown",
   "metadata": {},
   "source": [
    "# Gaussian random number generator"
   ]
  },
  {
   "cell_type": "code",
   "execution_count": 2,
   "metadata": {},
   "outputs": [],
   "source": [
    "def GRNG(N, m, s):\n",
    "    X = []\n",
    "    for i in range(N):\n",
    "        U = random.uniform(0, 1)\n",
    "        V = random.uniform(0, 1)\n",
    "        z = np.sqrt(-2*np.log(U))*np.cos(2*np.pi*V)\n",
    "        x = m + s*z\n",
    "        X.append(x)\n",
    "    X = np.asarray(X)\n",
    "    return X"
   ]
  },
  {
   "cell_type": "markdown",
   "metadata": {},
   "source": [
    "#  Logistic regression"
   ]
  },
  {
   "cell_type": "markdown",
   "metadata": {},
   "source": [
    "o Case1 : N = 50, mx1 = my1 = 1, mx2 = my2 = 10, vx1 = vy1 = vx2 = vy2 = 2"
   ]
  },
  {
   "cell_type": "code",
   "execution_count": 12,
   "metadata": {},
   "outputs": [],
   "source": [
    "# Dataset\n",
    "DX1 = GRNG(50, 1, 2)\n",
    "DY1 = GRNG(50, 1, 2)\n",
    "DX2 = GRNG(50, 10, 2)\n",
    "DY2 = GRNG(50, 10, 2)\n",
    "\n",
    "D1 = np.c_[DX1, DY1]    # D1 = (x1, y1)...50*2\n",
    "Class0 = np.zeros((50,1))\n",
    "\n",
    "D2 = np.c_[DX2, DY2]    # D2 = (x1, y1)...50*2\n",
    "Class1 = np.ones((50,1))\n",
    "\n",
    "y  = np.r_[Class0, Class1] # Label 50個0 50個1 ; 100*1"
   ]
  },
  {
   "cell_type": "markdown",
   "metadata": {},
   "source": [
    "# Newton's method"
   ]
  },
  {
   "cell_type": "code",
   "execution_count": 13,
   "metadata": {
    "scrolled": false
   },
   "outputs": [
    {
     "name": "stdout",
     "output_type": "stream",
     "text": [
      "Loop =  26 \n",
      "\n",
      "Newton's method: \n",
      "\n",
      "w:\n",
      "-66.4805226659857 \n",
      " 4.833303202758349 \n",
      " 7.151521939580845 \n",
      "\n",
      "Confusion Matrix:\n",
      "              Predict cluster 0   Predict cluster 1\n",
      "cluster 0         50                  0\n",
      "cluster 1         0                  50 \n",
      "\n",
      "Sensitivity (Successfully predict cluster 0): 1.0\n",
      "Specificity (Successfully predict cluster 2): 1.0\n"
     ]
    }
   ],
   "source": [
    "# initial w\n",
    "w = np.array([[0],[0],[0]])\n",
    "\n",
    "# Create A 100*3\n",
    "ones = np.ones((100, 1))\n",
    "A0 = np.r_[D1, D2] \n",
    "A = np.c_[ones, A0]\n",
    "\n",
    "D = np.identity(100)\n",
    "I = np.identity(100)\n",
    "sigmoid = np.zeros((100,1))\n",
    "\n",
    "# Newton's method\n",
    "err,count = 2,0\n",
    "grad = np.ones((3,1))\n",
    "\n",
    "while err > 1e-8:\n",
    "    for i in range(100):\n",
    "        sigmoid[i,0] = 1 / (1 + np.exp(-np.dot(A[i],w)))\n",
    "    # Hessian matrix\n",
    "    D = (sigmoid*(1-sigmoid))*I\n",
    "    Hessian = np.dot(np.dot(A.T,D),A) # Hessian = 3*3\n",
    "\n",
    "    # gradient\n",
    "    pgrad = grad\n",
    "\n",
    "    grad = np.dot(A.T, (sigmoid-y)) # grad = 3*1\n",
    "    \n",
    "    wnew = w - np.dot(np.linalg.inv(Hessian), grad)\n",
    "    err = abs((grad-pgrad).sum())\n",
    "    w = wnew   \n",
    "    count += 1\n",
    "\n",
    "\n",
    "predict = np.where(sigmoid > 0.5, 1, 0) # predict=100*1\n",
    "NX1,NX2,NY1,NY2 = [],[],[],[]\n",
    "# confusion matrix\n",
    "TP,FP,TN,FN = 0,0,0,0\n",
    "for i in range(100):\n",
    "    if predict[i,0] == y[i,0]:\n",
    "        if predict[i,0] == 0:\n",
    "            TP += 1\n",
    "            NX1.append(A0[i,0])\n",
    "            NY1.append(A0[i,1])\n",
    "        else:\n",
    "            TN +=1\n",
    "            NX2.append(A0[i,0])\n",
    "            NY2.append(A0[i,1])\n",
    "    elif predict[i,0] != y[i,0]:\n",
    "        if predict[i,0] == 1:\n",
    "            FP += 1\n",
    "            NX2.append(A0[i,0])\n",
    "            NY2.append(A0[i,1])\n",
    "        else:\n",
    "            FN +=1\n",
    "            NX1.append(A0[i,0])\n",
    "            NY1.append(A0[i,1])\n",
    "\n",
    "print(\"Loop = \",count,\"\\n\")\n",
    "print(\"Newton's method: \\n\")\n",
    "print(\"w:\")\n",
    "print(w[0,0],\"\\n\",w[1,0],\"\\n\",w[2,0],\"\\n\")\n",
    "print(\"Confusion Matrix:\")\n",
    "print(\"              Predict cluster 0   Predict cluster 1\")\n",
    "print(\"cluster 0\",\"       \",TP,\"                \",FP)\n",
    "print(\"cluster 1\",\"       \",FN,\"                \",TN,\"\\n\")\n",
    "print(\"Sensitivity (Successfully predict cluster 0):\",TP/(TP+FN))\n",
    "print(\"Specificity (Successfully predict cluster 2):\",TN/(FP+TN))"
   ]
  },
  {
   "cell_type": "markdown",
   "metadata": {},
   "source": [
    "# Gradient descent"
   ]
  },
  {
   "cell_type": "code",
   "execution_count": 14,
   "metadata": {},
   "outputs": [
    {
     "name": "stdout",
     "output_type": "stream",
     "text": [
      "Loop =  1195 \n",
      "\n",
      "Gradient descent: \n",
      "\n",
      "w:\n",
      "-9.393641477605847 \n",
      " 0.835806545335592 \n",
      " 0.9604328769957482 \n",
      "\n",
      "Confusion Matrix:\n",
      "              Predict cluster 0   Predict cluster 1\n",
      "cluster 0         50                  0\n",
      "cluster 1         0                  50 \n",
      "\n",
      "Sensitivity (Successfully predict cluster 0): 1.0\n",
      "Specificity (Successfully predict cluster 2): 1.0\n"
     ]
    }
   ],
   "source": [
    "gama = 0.01\n",
    "\n",
    "# initial w\n",
    "w = np.array([[0],[0],[0]])\n",
    "\n",
    "# Create A 100*3\n",
    "ones = np.ones((100, 1))\n",
    "A0 = np.r_[D1, D2] \n",
    "A = np.c_[ones, A0]\n",
    "\n",
    "# gradient\n",
    "sigmoid = np.zeros((100,1))\n",
    "\n",
    "# Gradient descent\n",
    "err,count = 1,0\n",
    "grad = np.ones((3,1))\n",
    "while err > 1e-8 :\n",
    "    pgrad = grad\n",
    "    for i in range(100):\n",
    "        sigmoid[i,0] = 1 / (1 + np.exp(-np.dot(A[i],w)))\n",
    "    grad = np.dot(A.T, (y-sigmoid)) # grad = 3*1\n",
    "    \n",
    "    wnew = w + gama*grad # find maximize => gradient ascent\n",
    "    err = ((grad-pgrad).sum())**2\n",
    "    w = wnew\n",
    "    count += 1\n",
    "\n",
    "predict = np.where(sigmoid > 0.5, 1, 0) # predict=100*1\n",
    "GX1,GX2,GY1,GY2 = [],[],[],[]\n",
    "# confusion matrix\n",
    "TP,FP,TN,FN = 0,0,0,0\n",
    "for i in range(100):\n",
    "    if predict[i,0] == y[i,0]:\n",
    "        if predict[i,0] == 0:\n",
    "            TN += 1\n",
    "            GX1.append(A0[i,0])\n",
    "            GY1.append(A0[i,1])\n",
    "        else:\n",
    "            TP +=1\n",
    "            GX2.append(A0[i,0])\n",
    "            GY2.append(A0[i,1])\n",
    "    elif predict[i,0] != y[i,0]:\n",
    "        if predict[i,0] == 1:\n",
    "            FP += 1\n",
    "            GX2.append(A0[i,0])\n",
    "            GY2.append(A0[i,1])\n",
    "        else:\n",
    "            FN +=1\n",
    "            GX1.append(A0[i,0])\n",
    "            GY1.append(A0[i,1])\n",
    "\n",
    "print(\"Loop = \",count,\"\\n\")\n",
    "print(\"Gradient descent: \\n\")\n",
    "print(\"w:\")\n",
    "print(w[0,0],\"\\n\",w[1,0],\"\\n\",w[2,0],\"\\n\")\n",
    "print(\"Confusion Matrix:\")\n",
    "print(\"              Predict cluster 0   Predict cluster 1\")\n",
    "print(\"cluster 0\",\"       \",TP,\"                \",FP)\n",
    "print(\"cluster 1\",\"       \",FN,\"                \",TN,\"\\n\")\n",
    "print(\"Sensitivity (Successfully predict cluster 0):\",TP/(TP+FN))\n",
    "print(\"Specificity (Successfully predict cluster 2):\",TN/(FP+TN))"
   ]
  },
  {
   "cell_type": "code",
   "execution_count": 15,
   "metadata": {},
   "outputs": [
    {
     "data": {
      "image/png": "[encoded data removed]",
      "text/plain": [
       "<Figure size 720x576 with 3 Axes>"
      ]
     },
     "metadata": {},
     "output_type": "display_data"
    }
   ],
   "source": [
    "dotX0 = [DX1,GX1,NX1] #NX1\n",
    "dotX1 = [DX2,GX2,NX2] #NX2\n",
    "dotY0 = [DY1,GY1,NY1] #NY1 \n",
    "dotY1 = [DY2,GY2,NY2] #NY2 \n",
    "title = ['Ground True','Gradient descent',\"Newton's method\"]\n",
    "\n",
    "plt.style.use('ggplot')\n",
    "fig, img = plt.subplots(1, 3, figsize=(10, 8), sharey=True, sharex=True)\n",
    "img[0].set_ylim(-5, 15)\n",
    "plt.yticks(np.linspace(-5, 15, 5))\n",
    "img[0].set_xlim(-5, 15)\n",
    "plt.xticks(np.linspace(-5, 15, 4))\n",
    "for i in range(3):\n",
    "    img[i].scatter(dotX0[i], dotY0[i], s=75, c='r', alpha=0.5)\n",
    "    img[i].scatter(dotX1[i], dotY1[i], s=75, c='b', alpha=0.5)\n",
    "    img[i].set_title(title[i])\n",
    "    img[i].legend('01')\n",
    "\n",
    "plt.show()"
   ]
  },
  {
   "cell_type": "markdown",
   "metadata": {},
   "source": [
    "# Case2 : N = 50, mx1 = my1 = 1, mx2 = my2 = 3, vx1 = vy1 = 2, vx2 = vy2 = 4"
   ]
  },
  {
   "cell_type": "markdown",
   "metadata": {},
   "source": [
    "#  Logistic regression"
   ]
  },
  {
   "cell_type": "code",
   "execution_count": 23,
   "metadata": {},
   "outputs": [],
   "source": [
    "# Dataset\n",
    "DX1 = GRNG(50, 1, 2)\n",
    "DY1 = GRNG(50, 1, 2)\n",
    "DX2 = GRNG(50, 3, 4)\n",
    "DY2 = GRNG(50, 3, 4)\n",
    "\n",
    "D1 = np.c_[DX1, DY1]    # D1 = (x1, y1)...100*2\n",
    "Class0 = np.zeros((50,1))\n",
    "\n",
    "D2 = np.c_[DX2, DY2]    # D2 = (x1, y1)...100*2\n",
    "Class1 = np.ones((50,1))\n",
    "\n",
    "y  = np.r_[Class0, Class1] # Label 50個0 50個1 ; 100*1"
   ]
  },
  {
   "cell_type": "code",
   "execution_count": 24,
   "metadata": {},
   "outputs": [
    {
     "name": "stdout",
     "output_type": "stream",
     "text": [
      "Loop =  7 \n",
      "\n",
      "Newton's method: \n",
      "\n",
      "w:\n",
      "-1.1600098235405147 \n",
      " 0.2731160621368859 \n",
      " 0.2991138861595888 \n",
      "\n",
      "Confusion Matrix:\n",
      "              Predict cluster 0   Predict cluster 1\n",
      "cluster 0         39                  11\n",
      "cluster 1         15                  35 \n",
      "\n",
      "Sensitivity (Successfully predict cluster 0): 0.7222222222222222\n",
      "Specificity (Successfully predict cluster 2): 0.7608695652173914\n"
     ]
    }
   ],
   "source": [
    "# initial w\n",
    "w = np.array([[0],[0],[0]])\n",
    "\n",
    "# Create A 100*3\n",
    "ones = np.ones((100, 1))\n",
    "A0 = np.r_[D1, D2] \n",
    "A = np.c_[ones, A0]\n",
    "\n",
    "D = np.identity(100)\n",
    "I = np.identity(100)\n",
    "sigmoid = np.zeros((100,1))\n",
    "\n",
    "# Newton's method\n",
    "err,count = 2,0\n",
    "grad = np.ones((3,1))\n",
    "#for z in range(2):\n",
    "while err > 1e-8:\n",
    "    for i in range(100):\n",
    "        sigmoid[i,0] = 1 / (1 + np.exp(-np.dot(A[i],w)))\n",
    "    # Hessian matrix\n",
    "    D = (sigmoid*(1-sigmoid))*I\n",
    "    Hessian = np.dot(np.dot(A.T,D),A) # Hessian = 3*3\n",
    "\n",
    "    # gradient\n",
    "    pgrad = grad\n",
    "\n",
    "    grad = np.dot(A.T, (sigmoid-y)) # grad = 3*1\n",
    "    \n",
    "    wnew = w - np.dot(np.linalg.inv(Hessian), grad)\n",
    "    err = abs((grad-pgrad).sum())\n",
    "    w = wnew   \n",
    "    count += 1\n",
    "\n",
    "\n",
    "predict = np.where(sigmoid > 0.5, 1, 0) # predict=100*1\n",
    "NX1,NX2,NY1,NY2 = [],[],[],[]\n",
    "# confusion matrix\n",
    "TP,FP,TN,FN = 0,0,0,0\n",
    "for i in range(100):\n",
    "    if predict[i,0] == y[i,0]:\n",
    "        if predict[i,0] == 0:\n",
    "            TP += 1\n",
    "            NX1.append(A0[i,0])\n",
    "            NY1.append(A0[i,1])\n",
    "        else:\n",
    "            TN +=1\n",
    "            NX2.append(A0[i,0])\n",
    "            NY2.append(A0[i,1])\n",
    "    elif predict[i,0] != y[i,0]:\n",
    "        if predict[i,0] == 1:\n",
    "            FP += 1\n",
    "            NX2.append(A0[i,0])\n",
    "            NY2.append(A0[i,1])\n",
    "        else:\n",
    "            FN +=1\n",
    "            NX1.append(A0[i,0])\n",
    "            NY1.append(A0[i,1])\n",
    "\n",
    "print(\"Loop = \",count,\"\\n\")\n",
    "print(\"Newton's method: \\n\")\n",
    "print(\"w:\")\n",
    "print(w[0,0],\"\\n\",w[1,0],\"\\n\",w[2,0],\"\\n\")\n",
    "print(\"Confusion Matrix:\")\n",
    "print(\"              Predict cluster 0   Predict cluster 1\")\n",
    "print(\"cluster 0\",\"       \",TP,\"                \",FP)\n",
    "print(\"cluster 1\",\"       \",FN,\"                \",TN,\"\\n\")\n",
    "print(\"Sensitivity (Successfully predict cluster 0):\",TP/(TP+FN))\n",
    "print(\"Specificity (Successfully predict cluster 2):\",TN/(FP+TN))"
   ]
  },
  {
   "cell_type": "code",
   "execution_count": 25,
   "metadata": {
    "scrolled": false
   },
   "outputs": [
    {
     "name": "stdout",
     "output_type": "stream",
     "text": [
      "Loop =  10 \n",
      "\n",
      "Gradient descent: \n",
      "\n",
      "w:\n",
      "-0.8766393868772516 \n",
      " 0.04279218854975819 \n",
      " 0.12815241824011891 \n",
      "\n",
      "Confusion Matrix:\n",
      "              Predict cluster 0   Predict cluster 1\n",
      "cluster 0         23                  27\n",
      "cluster 1         8                  42 \n",
      "\n",
      "Sensitivity (Successfully predict cluster 0): 0.7419354838709677\n",
      "Specificity (Successfully predict cluster 2): 0.6086956521739131\n"
     ]
    }
   ],
   "source": [
    "# initial w\n",
    "w = np.array([[0],[0],[0]])\n",
    "\n",
    "# Create A 100*3\n",
    "ones = np.ones((100, 1))\n",
    "A0 = np.r_[D1, D2] \n",
    "A = np.c_[ones, A0]\n",
    "\n",
    "# Gradient Descent\n",
    "gama = 0.01\n",
    "sigmoid = np.zeros((100,1))\n",
    "\n",
    "# Newton's method\n",
    "err,count = 999,0\n",
    "grad = np.ones((3,1))\n",
    "for i in range(10):\n",
    "# while err > 1e-1 :\n",
    "    pgrad = grad\n",
    "    # gradient\n",
    "    for i in range(100):\n",
    "        sigmoid[i,0] = 1 / (1 + np.exp(-np.dot(A[i],w)))\n",
    "    grad = np.dot(A.T, (y-sigmoid)) # grad = 3*1\n",
    "    \n",
    "    wnew = w + gama*grad # find maximize => gradient ascent\n",
    "    err = abs((grad-pgrad).sum())\n",
    "    w = wnew\n",
    "    count += 1\n",
    "\n",
    "predict = np.where(sigmoid > 0.5, 1, 0) # predict=100*1\n",
    "GX1,GX2,GY1,GY2 = [],[],[],[]\n",
    "# confusion matrix\n",
    "TP,FP,TN,FN = 0,0,0,0\n",
    "for i in range(100):\n",
    "    if predict[i,0] == y[i,0]:\n",
    "        if predict[i,0] == 0:\n",
    "            TP += 1\n",
    "            GX1.append(A0[i,0])\n",
    "            GY1.append(A0[i,1])\n",
    "        else:\n",
    "            TN +=1\n",
    "            GX2.append(A0[i,0])\n",
    "            GY2.append(A0[i,1])\n",
    "    elif predict[i,0] != y[i,0]:\n",
    "        if predict[i,0] == 1:\n",
    "            FP += 1\n",
    "            GX2.append(A0[i,0])\n",
    "            GY2.append(A0[i,1])\n",
    "        else:\n",
    "            FN +=1\n",
    "            GX1.append(A0[i,0])\n",
    "            GY1.append(A0[i,1])\n",
    "\n",
    "print(\"Loop = \",count,\"\\n\")\n",
    "print(\"Gradient descent: \\n\")\n",
    "print(\"w:\")\n",
    "print(w[0,0],\"\\n\",w[1,0],\"\\n\",w[2,0],\"\\n\")\n",
    "print(\"Confusion Matrix:\")\n",
    "print(\"              Predict cluster 0   Predict cluster 1\")\n",
    "print(\"cluster 0\",\"       \",TP,\"                \",FP)\n",
    "print(\"cluster 1\",\"       \",FN,\"                \",TN,\"\\n\")\n",
    "print(\"Sensitivity (Successfully predict cluster 0):\",TP/(TP+FN))\n",
    "print(\"Specificity (Successfully predict cluster 2):\",TN/(FP+TN))"
   ]
  },
  {
   "cell_type": "code",
   "execution_count": 26,
   "metadata": {},
   "outputs": [
    {
     "data": {
      "image/png": "[encoded data removed]",
      "text/plain": [
       "<Figure size 720x576 with 3 Axes>"
      ]
     },
     "metadata": {},
     "output_type": "display_data"
    }
   ],
   "source": [
    "dotX0 = [DX1,GX1,NX1]\n",
    "dotX1 = [DX2,GX2,NX2]\n",
    "dotY0 = [DY1,GY1,NY1] \n",
    "dotY1 = [DY2,GY2,NY2] \n",
    "title = ['Ground True','Gradient descent',\"Newton's method\"]\n",
    "\n",
    "plt.style.use('ggplot')\n",
    "fig, img = plt.subplots(1, 3, figsize=(10, 8), sharey=True, sharex=True)\n",
    "img[0].set_ylim(-5, 15)\n",
    "plt.yticks(np.linspace(-5, 15, 5))\n",
    "img[0].set_xlim(-5, 15)\n",
    "plt.xticks(np.linspace(-5, 15, 3))\n",
    "for i in range(3):\n",
    "    img[i].scatter(dotX0[i], dotY0[i], s=75, c='r', alpha=0.5)\n",
    "    img[i].scatter(dotX1[i], dotY1[i], s=75, c='b', alpha=0.5)\n",
    "    img[i].set_title(title[i])\n",
    "    img[i].legend('01')\n",
    "\n",
    "plt.show()"
   ]
  },
  {
   "cell_type": "markdown",
   "metadata": {},
   "source": [
    " # EM"
   ]
  },
  {
   "cell_type": "code",
   "execution_count": 1,
   "metadata": {},
   "outputs": [],
   "source": [
    "import numpy as np\n",
    "import struct\n",
    "import matplotlib.pyplot as plt\n",
    "import math\n",
    "import copy\n",
    "from functools import reduce\n",
    "\n",
    "tr_imag_idx3 = 'train-images.idx3-ubyte'\n",
    "tr_label_idx1 = 'train-labels.idx1-ubyte'"
   ]
  },
  {
   "cell_type": "code",
   "execution_count": 2,
   "metadata": {},
   "outputs": [],
   "source": [
    "def decode_idx3(idx3_file):\n",
    "    # read 二進位\n",
    "    bin_data = open(idx3_file, 'rb').read()\n",
    "\n",
    "    # 解析header，依次為number、#image、image height、image width\n",
    "    offset = 0\n",
    "    fmt_header = '>iiii'\n",
    "    magic_number, num_images, num_rows, num_cols = struct.unpack_from(fmt_header, bin_data, offset)\n",
    "\n",
    "    # analysis dataset\n",
    "    image_size = num_rows * num_cols\n",
    "    offset += struct.calcsize(fmt_header)\n",
    "    fmt_image = '>' + str(image_size) + 'B'\n",
    "    images = np.empty((num_images, num_rows, num_cols))\n",
    "    for i in range(num_images):\n",
    "        images[i] = np.array(struct.unpack_from(fmt_image, bin_data, offset)).reshape((num_rows, num_cols))\n",
    "        offset += struct.calcsize(fmt_image)\n",
    "    return images\n",
    "\n",
    "def decode_idx1(idx1_file):\n",
    "    # read 二進位\n",
    "    bin_data = open(idx1_file, 'rb').read()\n",
    "\n",
    "    # 解析header，依次為number & label\n",
    "    offset = 0\n",
    "    fmt_header = '>ii'\n",
    "    magic_number, num_images = struct.unpack_from(fmt_header, bin_data, offset)\n",
    "\n",
    "    # analysis dataset\n",
    "    offset += struct.calcsize(fmt_header)\n",
    "    fmt_image = '>B'\n",
    "    labels = np.empty(num_images)\n",
    "    for i in range(num_images):\n",
    "        labels[i] = struct.unpack_from(fmt_image, bin_data, offset)[0]\n",
    "        offset += struct.calcsize(fmt_image)\n",
    "    return labels\n",
    "\n",
    "def load_train_imag(file=tr_imag_idx3):\n",
    "     return decode_idx3(file)\n",
    "def load_train_label(file=tr_label_idx1):\n",
    "    return decode_idx1(file)"
   ]
  },
  {
   "cell_type": "code",
   "execution_count": 35,
   "metadata": {},
   "outputs": [],
   "source": [
    "train_imag = load_train_imag()\n",
    "train_label = load_train_label()\n",
    "\n",
    "def CheckData():\n",
    "    # Check top 10 data point & label\n",
    "    for i in range(20,30):\n",
    "        print (train_label[i]) # data value\n",
    "        plt.imshow(train_imag[i], cmap='gray')\n",
    "        plt.show()\n",
    "        #print (train_imag[i]) # array"
   ]
  },
  {
   "cell_type": "code",
   "execution_count": 36,
   "metadata": {},
   "outputs": [],
   "source": [
    "N = 60000"
   ]
  },
  {
   "cell_type": "markdown",
   "metadata": {},
   "source": [
    "# Once"
   ]
  },
  {
   "cell_type": "code",
   "execution_count": 62,
   "metadata": {},
   "outputs": [],
   "source": [
    "trainimg = copy.deepcopy(train_imag).reshape(60000,784,1)\n",
    "preP = copy.deepcopy(train_imag).reshape(60000,1,784)\n",
    "\n",
    "trainimg[np.where(trainimg < 128)] = 0 #bin0\n",
    "trainimg[np.where(trainimg >= 128)] = 1 #bin1\n",
    "\n",
    "preP[np.where(preP < 128)] = 0.8  \n",
    "preP[np.where(preP >= 128)] = 0.2\n",
    "\n",
    "Ppix = np.vstack((preP[1],preP[6]))\n",
    "\n",
    "l = [5,7,9,0,18,15,17,4]\n",
    "for i in range(8):\n",
    "    Ppix = np.vstack((Ppix, preP[l[i]]))"
   ]
  },
  {
   "cell_type": "code",
   "execution_count": 64,
   "metadata": {},
   "outputs": [],
   "source": [
    "pindex = [] # len(pindex = 784)\n",
    "for i in range(784):\n",
    "    cindex = np.where(trainimg[:N, i ,0]==0) # trainimg 中第i行的 row 為 0 的index\n",
    "    pindex.append(cindex) \n",
    "\n",
    "Index0, Index1 = [], []\n",
    "for i in range(N):\n",
    "    cindex0 = np.where(trainimg[i, : ,0]==0) # trainimg 中第i列的 row 為 0 的index\n",
    "    Index0.append(cindex0) \n",
    "\n",
    "for i in range(N):\n",
    "    cindex1 = np.where(trainimg[i, : ,0]==1) # trainimg 中第列的 row 為 1 的index\n",
    "    Index1.append(cindex1) \n",
    "    \n",
    "lamda = np.array([0.1])\n",
    "lamda = lamda.repeat(10) # lamda = 1*10\n",
    "Ppix.tolist\n",
    "Psub = (1 - Ppix) # Ppix 10*748 ; Psub 10*748\n",
    "\n",
    "w = np.ones((10,N))\n",
    "denomi = np.ones((10,N)) \n",
    "deno = np.ones((1,N))"
   ]
  },
  {
   "cell_type": "markdown",
   "metadata": {},
   "source": [
    "o Iteration:"
   ]
  },
  {
   "cell_type": "code",
   "execution_count": 66,
   "metadata": {},
   "outputs": [],
   "source": [
    "# E Step\n",
    "for i in range(N):\n",
    "    for ii in range(10):\n",
    "        denomi[ii, i] =  lamda[ii]*reduce(lambda x,y:x*y,Ppix[ii,Index0[i][0]],10.**50)*reduce(lambda x,y:x*y,Psub[ii,Index1[i][0]],10.**50)\n",
    "deno = np.sum(denomi,axis=0)\n",
    "w = denomi / deno"
   ]
  },
  {
   "cell_type": "code",
   "execution_count": 24,
   "metadata": {},
   "outputs": [],
   "source": [
    "# M Step\n",
    "for i in range(10):\n",
    "    lamda[i] = reduce(lambda x,y:x+y, w[i,:])/N\n",
    "\n",
    "for i in range(10):\n",
    "    for ii in range(784):\n",
    "        Ppix[i,ii] = reduce(lambda x,y:x+y, w[i, pindex[ii][0]])\n",
    "\n",
    "Sum_N_w = Ppix[:, 0].reshape(10,1)\n",
    "Ppix = Ppix /Sum_N_w"
   ]
  },
  {
   "cell_type": "markdown",
   "metadata": {},
   "source": [
    "# Iterative"
   ]
  },
  {
   "cell_type": "code",
   "execution_count": 37,
   "metadata": {},
   "outputs": [],
   "source": [
    "trainimg = copy.deepcopy(train_imag).reshape(60000,784,1)\n",
    "preP = copy.deepcopy(train_imag).reshape(60000,784)\n",
    "\n",
    "trainimg[np.where(trainimg < 128)] = 0 #bin0\n",
    "trainimg[np.where(trainimg >= 128)] = 1 #bin1\n",
    "\n",
    "preP = np.where(preP < 128,0.8,0.2)  \n",
    "\n",
    "Ppix = np.vstack((preP[1],preP[3]))\n",
    "\n",
    "l = [5,7,2,0,13,15,17,4]\n",
    "for i in range(8):\n",
    "    Ppix = np.vstack((Ppix, preP[l[i]]))"
   ]
  },
  {
   "cell_type": "code",
   "execution_count": 38,
   "metadata": {},
   "outputs": [],
   "source": [
    "pindex = [] # len(pindex = 784)\n",
    "for i in range(784):\n",
    "    cindex = np.where(trainimg[:N, i]==0) # trainimg 中第i行的 row 為 0 的index\n",
    "    pindex.append(cindex) \n",
    "\n",
    "Index0, Index1 = [], []\n",
    "for i in range(N):\n",
    "    Index0.append(np.where(trainimg[i, :,0]==0.))# trainimg 中第N列的 row 為 0 的index\n",
    "\n",
    "for i in range(N):\n",
    "     Index1.append(np.where(trainimg[i, :,0]==1.))# trainimg 中第N列的 row 為 1 的index\n",
    "\n",
    "lamda = np.array([0.1])\n",
    "lamda = lamda.repeat(10) # lamda = 1*10\n",
    "\n",
    "Psub = (1 - Ppix) # Ppix 10*748 ; Psub 10*748\n",
    "\n",
    "w = np.ones((10,N))\n",
    "denomi = np.ones((10,N)) \n",
    "deno = np.ones((1,N))\n",
    "Sum_N_w = np.ones((10,1))"
   ]
  },
  {
   "cell_type": "markdown",
   "metadata": {},
   "source": [
    "- loop \n",
    "<br>lamda:1-10 ; Ppix:10-784 ; w:10-60000 </br>\n",
    "<br>denomi:10-60000 ; deno: 1-60000 </br>"
   ]
  },
  {
   "cell_type": "code",
   "execution_count": 39,
   "metadata": {
    "scrolled": false
   },
   "outputs": [],
   "source": [
    "errlamda,errP0,count = 1, 1, 0\n",
    "while errlamda>1e-15 or errP0>0.08:\n",
    "    # E Step\n",
    "    for i in range(N):\n",
    "        for ii in range(10):\n",
    "            denomi[ii, i] =  lamda[ii]*reduce(lambda x,y:x*y,Ppix[ii,Index0[i][0]],10.**50)*reduce(lambda x,y:x*y,Psub[ii,Index1[i][0]],10.**50)\n",
    "    deno = np.sum(denomi,axis=0).reshape((1,N))\n",
    "    w = denomi / deno\n",
    "    \n",
    "    prelamda = copy.deepcopy(lamda)\n",
    "    preP = copy.deepcopy(Ppix)\n",
    "    \n",
    "    # M Step\n",
    "    for i in range(10):\n",
    "        lamda[i] = (w[i,:].sum())/N\n",
    "\n",
    "    for i in range(10):\n",
    "        for ii in range(784):\n",
    "            Ppix[i,ii] = reduce(lambda x,y:x+y,w[i,pindex[ii][0]])\n",
    "        Sum_N_w[i,0] = w[i,:].sum()\n",
    "\n",
    "    Ppix = Ppix /Sum_N_w\n",
    "    \n",
    "    \n",
    "    errlamda = abs((prelamda-lamda).sum())\n",
    "    errP0 = abs((preP[0]-Ppix[0]).sum())\n",
    "    count += 1"
   ]
  },
  {
   "cell_type": "code",
   "execution_count": 40,
   "metadata": {},
   "outputs": [
    {
     "data": {
      "text/plain": [
       "array([[3099,  301,    3,   36,    0, 1106,  273,  146,    6,  953],\n",
       "       [   0, 5281,    0,    0,    0,   18,    2,    3,    1, 1437],\n",
       "       [   7, 3184,  913,  255,    0,  385,  288,  165,   11,  750],\n",
       "       [   0, 1229,    3, 2004,    0, 2006,   25,   29,    6,  829],\n",
       "       [   1,  387,    0,    0,  351,    0,   40,  581,    0, 4482],\n",
       "       [   1, 1034,    1,  168,    0, 2349,   40,   43,    9, 1776],\n",
       "       [  12, 1166,    0,    0,    3,  371, 3347,   11,    0, 1008],\n",
       "       [   0,  482,    0,    1,   67,   26,    1, 2574,    1, 3113],\n",
       "       [   0, 2175,    1,  903,    1,  226,   33,  184,  948, 1380],\n",
       "       [   5,  186,    1,   36,  123,   52,    7,  970,    0, 4569]])"
      ]
     },
     "execution_count": 40,
     "metadata": {},
     "output_type": "execute_result"
    }
   ],
   "source": [
    "plabel = np.argmax(w, axis=0)\n",
    "mat = np.zeros((10,10), dtype=int)\n",
    "\n",
    "for i in range(N):\n",
    "    mat[int(train_label[i]),int(plabel[i])] += 1\n",
    "mat"
   ]
  },
  {
   "cell_type": "code",
   "execution_count": 43,
   "metadata": {},
   "outputs": [
    {
     "name": "stdout",
     "output_type": "stream",
     "text": [
      "Confusion Matrix: 0\n",
      "                 Predict number 0 Predict not number 0\n",
      "Is Number         3099                2824\n",
      "Not Number        26                54051 \n",
      "\n",
      "Sensitivity (Successfully predict number 0 ): 0.5232145872024312\n",
      "Specificity (Successfully predict not number 0 ): 0.9503472527472527\n",
      "-----------------------------------------------\n",
      "Confusion Matrix: 1\n",
      "                 Predict number 1 Predict not number 1\n",
      "Is Number         5281                1461\n",
      "Not Number        10144                43114 \n",
      "\n",
      "Sensitivity (Successfully predict number 1 ): 0.7832987244141204\n",
      "Specificity (Successfully predict not number 1 ): 0.9672237801458217\n",
      "-----------------------------------------------\n",
      "Confusion Matrix: 2\n",
      "                 Predict number 2 Predict not number 2\n",
      "Is Number         913                5045\n",
      "Not Number        9                54033 \n",
      "\n",
      "Sensitivity (Successfully predict number 2 ): 0.15323934206109432\n",
      "Specificity (Successfully predict not number 2 ): 0.9146044212735706\n",
      "-----------------------------------------------\n",
      "Confusion Matrix: 3\n",
      "                 Predict number 3 Predict not number 3\n",
      "Is Number         2004                4127\n",
      "Not Number        1399                52470 \n",
      "\n",
      "Sensitivity (Successfully predict number 3 ): 0.3268634806719948\n",
      "Specificity (Successfully predict not number 3 ): 0.9270809406859021\n",
      "-----------------------------------------------\n",
      "Confusion Matrix: 4\n",
      "                 Predict number 4 Predict not number 4\n",
      "Is Number         351                5491\n",
      "Not Number        194                53964 \n",
      "\n",
      "Sensitivity (Successfully predict number 4 ): 0.06008216364258816\n",
      "Specificity (Successfully predict not number 4 ): 0.9076444369691363\n",
      "-----------------------------------------------\n",
      "Confusion Matrix: 5\n",
      "                 Predict number 5 Predict not number 5\n",
      "Is Number         2349                3072\n",
      "Not Number        4190                50389 \n",
      "\n",
      "Sensitivity (Successfully predict number 5 ): 0.4333148865522966\n",
      "Specificity (Successfully predict not number 5 ): 0.9425375507379211\n",
      "-----------------------------------------------\n",
      "Confusion Matrix: 6\n",
      "                 Predict number 6 Predict not number 6\n",
      "Is Number         3347                2571\n",
      "Not Number        709                53373 \n",
      "\n",
      "Sensitivity (Successfully predict number 6 ): 0.5655626900980061\n",
      "Specificity (Successfully predict not number 6 ): 0.954043329043329\n",
      "-----------------------------------------------\n",
      "Confusion Matrix: 7\n",
      "                 Predict number 7 Predict not number 7\n",
      "Is Number         2574                3691\n",
      "Not Number        2132                51603 \n",
      "\n",
      "Sensitivity (Successfully predict number 7 ): 0.410853950518755\n",
      "Specificity (Successfully predict not number 7 ): 0.9332477303143198\n",
      "-----------------------------------------------\n",
      "Confusion Matrix: 8\n",
      "                 Predict number 8 Predict not number 8\n",
      "Is Number         948                4903\n",
      "Not Number        34                54115 \n",
      "\n",
      "Sensitivity (Successfully predict number 8 ): 0.16202358571184414\n",
      "Specificity (Successfully predict not number 8 ): 0.9169236504117388\n",
      "-----------------------------------------------\n",
      "Confusion Matrix: 9\n",
      "                 Predict number 9 Predict not number 9\n",
      "Is Number         4569                1380\n",
      "Not Number        15728                38323 \n",
      "\n",
      "Sensitivity (Successfully predict number 9 ): 0.7680282400403429\n",
      "Specificity (Successfully predict not number 9 ): 0.9652419212653955\n",
      "-----------------------------------------------\n"
     ]
    }
   ],
   "source": [
    "for i in range(10):\n",
    "    print(\"Confusion Matrix:\",i)\n",
    "    print(\"                 Predict number\", i,   \"Predict not number\", i)\n",
    "    print(\"Is Number \",\"      \",mat[i,i],\"              \",mat[i,:].sum()-mat[i,i])\n",
    "    print(\"Not Number \",\"     \",mat[:,i].sum()-mat[i,i],\"              \",mat[:i,:i].sum()+mat[i+1:,:i].sum()+mat[:i,i+1:].sum()+mat[i+1:,i+1:].sum(),\"\\n\")\n",
    "    print(\"Sensitivity (Successfully predict number\",i,\"):\",mat[i,i]/(mat[i,:].sum()))\n",
    "    print(\"Specificity (Successfully predict not number\",i,\"):\",(mat[:i,:i].sum()+mat[i+1:,:i].sum()+mat[:i,i+1:].sum()+mat[i+1:,i+1:].sum())/(N-mat[:,i].sum()))\n",
    "    print(\"-----------------------------------------------\")    "
   ]
  },
  {
   "cell_type": "code",
   "execution_count": 45,
   "metadata": {
    "scrolled": true
   },
   "outputs": [
    {
     "data": {
      "image/png": "[encoded data removed]",
      "text/plain": [
       "<Figure size 1152x1152 with 10 Axes>"
      ]
     },
     "metadata": {
      "needs_background": "light"
     },
     "output_type": "display_data"
    },
    {
     "name": "stdout",
     "output_type": "stream",
     "text": [
      "Iterative= 8 \n",
      "\n",
      "Total error 0.5760833333333333\n"
     ]
    }
   ],
   "source": [
    "img0 = np.where(Ppix > 0.5, 0, 1)\n",
    "img = img0.reshape((10,28,28))\n",
    "\n",
    "fig, arrimg = plt.subplots(1, 10, figsize=(16, 16))\n",
    "for i in range(10):\n",
    "    arrimg[i].imshow(img[i],cmap='gray')\n",
    "    arrimg[i].axes.get_xaxis().set_visible(False)\n",
    "    arrimg[i].axes.get_yaxis().set_visible(False)\n",
    "plt.show()\n",
    "print(\"Iterative=\",count,\"\\n\")\n",
    "\n",
    "TotTP = 0\n",
    "for i in range(10):\n",
    "    TotTP = mat[i,i] + TotTP\n",
    "print(\"Total error\",(N-TotTP)/N)"
   ]
  },
  {
   "cell_type": "code",
   "execution_count": null,
   "metadata": {},
   "outputs": [],
   "source": []
  }
 ],
 "metadata": {
  "kernelspec": {
   "display_name": "Python 3",
   "language": "python",
   "name": "python3"
  },
  "language_info": {
   "codemirror_mode": {
    "name": "ipython",
    "version": 3
   },
   "file_extension": ".py",
   "mimetype": "text/x-python",
   "name": "python",
   "nbconvert_exporter": "python",
   "pygments_lexer": "ipython3",
   "version": "3.7.0"
  }
 },
 "nbformat": 4,
 "nbformat_minor": 2
}
